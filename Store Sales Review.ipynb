{
 "cells": [
  {
   "cell_type": "code",
   "execution_count": 1,
   "id": "2ea42bc2",
   "metadata": {},
   "outputs": [
    {
     "name": "stdout",
     "output_type": "stream",
     "text": [
      "Total price average: 33.333333333333336\n",
      "New prices:\n",
      "[25, 20, 35, 15, 15, 30, 40, 45, 30]\n",
      "Total revenue: 1400\n",
      "Average daily revenue: 200.0\n",
      "Products less than GHC30: ['Sankofa Foods', 'Jamestown Coffee', 'Blue Skies Ice Cream', 'Fair Afric Chocolate']\n"
     ]
    }
   ],
   "source": [
    "products = [\"Sankofa Foods\", \"Jamestown Coffee\", \"Bioko Chocolate\", \"Blue Skies Ice Cream\", \"Fair Afric Chocolate\", \"Kawa Moka Coffee\", \"Aphro Spirit\", \"Mensado Bissap\", \"Voltic\"]\n",
    "prices = [30, 25, 40, 20, 20, 35, 45, 50, 35]\n",
    "last_week = [2, 3, 5, 8, 4, 4, 6, 2, 9]\n",
    "\n",
    "# Calculate the total price average for all products\n",
    "total_price_average = sum(prices) / len(prices)\n",
    "print(f\"Total price average: {total_price_average}\")\n",
    "\n",
    "# Create a new price list that reduces the old prices by GHCS5\n",
    "new_prices = [price - 5 for price in prices]\n",
    "print(\"New prices:\")\n",
    "print(new_prices)\n",
    "\n",
    "# Calculate the total revenue generated from the products\n",
    "total_revenue = sum(prices[i] * last_week[i] for i in range(len(prices)))\n",
    "print(f\"Total revenue: {total_revenue}\")\n",
    "\n",
    "# Calculate the average daily revenue generated from the products\n",
    "average_daily_revenue = total_revenue / 7\n",
    "print(f\"Average daily revenue: {average_daily_revenue}\")\n",
    "\n",
    "# Determine which products are less than GHC30 based on the new prices\n",
    "products_less_than_30 = [product for product, price in zip(products, new_prices) if price < 30]\n",
    "print(f\"Products less than GHC30: {products_less_than_30}\")\n"
   ]
  },
  {
   "cell_type": "code",
   "execution_count": null,
   "id": "f4fba6f5",
   "metadata": {},
   "outputs": [],
   "source": []
  }
 ],
 "metadata": {
  "kernelspec": {
   "display_name": "Python 3 (ipykernel)",
   "language": "python",
   "name": "python3"
  },
  "language_info": {
   "codemirror_mode": {
    "name": "ipython",
    "version": 3
   },
   "file_extension": ".py",
   "mimetype": "text/x-python",
   "name": "python",
   "nbconvert_exporter": "python",
   "pygments_lexer": "ipython3",
   "version": "3.11.5"
  }
 },
 "nbformat": 4,
 "nbformat_minor": 5
}
